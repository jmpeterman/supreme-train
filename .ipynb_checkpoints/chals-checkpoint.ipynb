{
 "cells": [
  {
   "cell_type": "code",
   "execution_count": 2,
   "id": "ab1c1c23",
   "metadata": {},
   "outputs": [
    {
     "name": "stdout",
     "output_type": "stream",
     "text": [
      "4\n",
      "4\n",
      "10\n"
     ]
    }
   ],
   "source": [
    "letters = \"ABCDEFGHIJKLMNOPQRSTUVWXYZabcdefghijklmnopqrstuvwxyz\"\n",
    "# Write your unique_english_letters function here:\n",
    "def unique_english_letters(word):\n",
    "  uniques = 0\n",
    "  for letter in letters:\n",
    "    if letter in word:\n",
    "      uniques += 1\n",
    "  return uniques\n",
    "# Uncomment these function calls to test your function:\n",
    "print(unique_english_letters(\"mississippi\"))\n",
    "# should print 4\n",
    "print(unique_english_letters(\"Apple\"))\n",
    "# should print 4\n",
    "print(unique_english_letters(\"I live in arizona\"))"
   ]
  },
  {
   "cell_type": "code",
   "execution_count": 7,
   "id": "4629b48c",
   "metadata": {},
   "outputs": [
    {
     "name": "stdout",
     "output_type": "stream",
     "text": [
      "4\n",
      "1\n"
     ]
    }
   ],
   "source": [
    "# Write your count_char_x function here:\n",
    "def count_char_x(word, x):\n",
    "    occurance = 0\n",
    "    for letter in word:\n",
    "        if letter == x:\n",
    "            occurance += 1\n",
    "    return occurance\n",
    "        \n",
    "# Uncomment these function calls to test your tip function:\n",
    "print(count_char_x(\"mississippi\", \"s\"))\n",
    "# should print 4\n",
    "print(count_char_x(\"mississippi\", \"m\"))\n",
    "# should print 1"
   ]
  },
  {
   "cell_type": "code",
   "execution_count": 9,
   "id": "7fc8610a",
   "metadata": {},
   "outputs": [
    {
     "name": "stdout",
     "output_type": "stream",
     "text": [
      "2\n",
      "1\n"
     ]
    }
   ],
   "source": [
    "# Write a function named count_multi_char_x that takes a string named word and a string named x. This function should do the same thing as the count_char_x function you just wrote - it should return the number of times x appears in word. However, this time, make sure your function works when x is multiple characters long.\n",
    "def count_multi_char_x(word, x):\n",
    "  splits = word.split(x)\n",
    "  return(len(splits)-1)\n",
    "# Uncomment these function calls to test your function:\n",
    "print(count_multi_char_x(\"mississippi\", \"iss\"))\n",
    "# should print 2\n",
    "print(count_multi_char_x(\"apple\", \"pp\"))\n",
    "# should print 1"
   ]
  },
  {
   "cell_type": "code",
   "execution_count": 11,
   "id": "c5b65d67",
   "metadata": {},
   "outputs": [
    {
     "name": "stdout",
     "output_type": "stream",
     "text": [
      "pl\n",
      "apple\n"
     ]
    }
   ],
   "source": [
    "# Write a function named substring_between_letters that takes a string named word, a single character named start, and another character named end. This function should return the substring between the first occurrence of start and end in word. If start or end are not in word, the function should return word.\n",
    "def substring_between_letters(word, start, end):\n",
    "  start_ind = word.find(start)\n",
    "  end_ind = word.find(end)\n",
    "  if start_ind > -1 and end_ind > -1:\n",
    "    return(word[start_ind+1:end_ind])\n",
    "  return word\n",
    "# Uncomment these function calls to test your function:\n",
    "print(substring_between_letters(\"apple\", \"p\", \"e\"))\n",
    "# should print \"pl\"\n",
    "print(substring_between_letters(\"apple\", \"p\", \"c\"))\n",
    "# should print \"apple\""
   ]
  },
  {
   "cell_type": "code",
   "execution_count": 12,
   "id": "c0f9ec19",
   "metadata": {},
   "outputs": [
    {
     "name": "stdout",
     "output_type": "stream",
     "text": [
      "False\n",
      "True\n"
     ]
    }
   ],
   "source": [
    "# Create a function called x_length_words that takes a string named sentence and an integer named x as parameters. This function should return True if every word in sentence has a length greater than or equal to x.\n",
    "def x_length_words(sentence, x):\n",
    "  words = sentence.split(\" \")\n",
    "  for word in words:\n",
    "    if len(word) < x:\n",
    "      return False\n",
    "  return True\n",
    "\n",
    "print(x_length_words(\"i like apples\", 2))\n",
    "# should print False\n",
    "print(x_length_words(\"he likes apples\", 2))\n",
    "# should print True"
   ]
  },
  {
   "cell_type": "code",
   "execution_count": null,
   "id": "6841ed07",
   "metadata": {},
   "outputs": [],
   "source": []
  }
 ],
 "metadata": {
  "kernelspec": {
   "display_name": "Python 3",
   "language": "python",
   "name": "python3"
  },
  "language_info": {
   "codemirror_mode": {
    "name": "ipython",
    "version": 3
   },
   "file_extension": ".py",
   "mimetype": "text/x-python",
   "name": "python",
   "nbconvert_exporter": "python",
   "pygments_lexer": "ipython3",
   "version": "3.7.10"
  }
 },
 "nbformat": 4,
 "nbformat_minor": 5
}
